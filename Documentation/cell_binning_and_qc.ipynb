{
 "cells": [
  {
   "cell_type": "code",
   "execution_count": null,
   "metadata": {
    "tags": [
     "parameters"
    ]
   },
   "outputs": [],
   "source": [
    "# Parameters cell (required by Papermill)\n",
    "organism = None\n",
    "sample_id = None\n",
    "source_image_path = None\n",
    "square_002_bin_path = None\n",
    "min_cells = None\n",
    "min_genes = None\n",
    "top_variable_genes = None\n",
    "microns_per_pixel = None\n",
    "working_dir = None\n",
    "metadata = None"
   ]
  },
  {
   "cell_type": "markdown",
   "metadata": {},
   "source": [
    "# Cell Binning and QC Workflow\n",
    "This notebook performs spatial transcriptomics cell segmentation and quality control using the `bin2cell` pipeline, following a structure similar to prior internal notebooks. Below, we load raw Visium HD data, perform segmentation using StarDist, convert bin-level data to cell-level data, apply quality control and normalization, and visualize the results."
   ]
  },
  {
   "cell_type": "markdown",
   "metadata": {},
   "source": [
    "## 1. Load and Inspect Raw Data"
   ]
  },
  {
   "cell_type": "code",
   "execution_count": null,
   "metadata": {},
   "outputs": [],
   "source": [
    "from pathlib import Path\n",
    "from typing import Dict, Tuple, Optional\n",
    "from pprint import pprint\n",
    "from abc import ABC, abstractmethod\n",
    "from dataclasses import dataclass\n",
    "from PIL import Image\n",
    "\n",
    "import matplotlib.pyplot as plt\n",
    "import seaborn as sns\n",
    "import scipy as sp\n",
    "import scanpy as sc\n",
    "import squidpy as sq\n",
    "import numpy as np\n",
    "import pandas as pd\n",
    "\n",
    "import bin2cell as b2c"
   ]
  },
  {
   "cell_type": "code",
   "execution_count": null,
   "metadata": {},
   "outputs": [],
   "source": [
    "# load 002um\n",
    "adata = b2c.read_visium(\n",
    "    path=square_002_bin_path,\n",
    "    source_image_path=source_image_path,\n",
    "    genome=\"mm10\"\n",
    ")\n",
    "adata.var_names_make_unique()\n",
    "adata"
   ]
  },
  {
   "cell_type": "code",
   "execution_count": null,
   "metadata": {},
   "outputs": [],
   "source": [
    "# convert to int32\n",
    "adata.X = adata.X.astype(np.int32)"
   ]
  },
  {
   "cell_type": "code",
   "execution_count": null,
   "metadata": {},
   "outputs": [],
   "source": [
    "#histogram og\n",
    "adata.obs['n_genes'] = (adata.X > 0).sum(axis=1).A1 if hasattr(adata.X, \"A1\") else (adata.X > 0).sum(axis=1)\n",
    "plt.hist(adata.obs['n_genes'], bins=100)\n",
    "plt.xlim(0, 500)\n",
    "plt.xlabel(\"Number of genes\")\n",
    "plt.ylabel(\"Number of barcodes\")\n",
    "plt.title(\"Gene count distribution per barcode\")"
   ]
  },
  {
   "cell_type": "code",
   "execution_count": null,
   "metadata": {},
   "outputs": [],
   "source": [
    "# basic filtering\n",
    "adata.raw = adata.copy()\n",
    "sc.pp.filter_cells(adata, min_genes=min_genes)\n",
    "sc.pp.filter_genes(adata, min_cells=min_cells)\n",
    "adata"
   ]
  },
  {
   "cell_type": "code",
   "execution_count": null,
   "metadata": {},
   "outputs": [],
   "source": [
    "#histogram min_genes==30\n",
    "plt.hist(adata.obs['n_genes'], bins=100)\n",
    "plt.xlim(0, 500)\n",
    "plt.xlabel(\"Number of genes\")\n",
    "plt.ylabel(\"Number of barcodes\")\n",
    "plt.title(\"Gene count distribution per barcode\")"
   ]
  },
  {
   "cell_type": "markdown",
   "metadata": {},
   "source": [
    "## 2. Quality Control Metrics\n",
    "Calculate standard QC metrics for cell-level filtering and downstream analysis."
   ]
  },
  {
   "cell_type": "code",
   "execution_count": null,
   "metadata": {},
   "outputs": [],
   "source": [
    "# compute quality control metrics\n",
    "sc.pp.calculate_qc_metrics(adata, inplace=True)"
   ]
  },
  {
   "cell_type": "code",
   "execution_count": null,
   "metadata": {},
   "outputs": [],
   "source": [
    "plt.hist(adata.obs.loc[adata.obs['in_tissue'] == 1, 'n_genes'], bins=100)\n",
    "plt.xlim(0, 500)\n",
    "plt.xlabel(\"Number of genes (in_tissue=1)\")\n",
    "plt.ylabel(\"Number of barcodes\")\n",
    "plt.title(\"Gene count per in-tissue barcode\")"
   ]
  },
  {
   "cell_type": "code",
   "execution_count": null,
   "metadata": {},
   "outputs": [],
   "source": [
    "# additional QC Metrics\n",
    "# total umi counts per barcode\n",
    "adata.obs['total_counts'].hist(bins=100)\n",
    "plt.xlim(0, 500)\n",
    "plt.xlabel(\"Total UMI counts\")\n",
    "plt.ylabel(\"Barcodes\")\n",
    "plt.title(\"UMI distribution per barcode\")"
   ]
  },
  {
   "cell_type": "code",
   "execution_count": null,
   "metadata": {},
   "outputs": [],
   "source": [
    "# correlation between umi counts and gene counts\n",
    "sc.pl.scatter(adata, x='total_counts', y='n_genes')"
   ]
  },
  {
   "cell_type": "markdown",
   "metadata": {},
   "source": [
    "## 3. Generate Scaled HE Image\n",
    "This step creates a high-resolution version of the H&E image used for downstream segmentation."
   ]
  },
  {
   "cell_type": "code",
   "execution_count": null,
   "metadata": {},
   "outputs": [],
   "source": [
    "import os\n",
    "\n",
    "# Define output directory for StarDist\n",
    "stardist_dir = \"stardist\"\n",
    "os.makedirs(stardist_dir, exist_ok=True)\n",
    "\n",
    "# Parameters\n",
    "mpp = float(microns_per_pixel)  # from pipeline input\n",
    "crop = True                     # always crop to buffer zone for consistency\n",
    "save_path = os.path.join(stardist_dir, f\"{sample_id}_he_crop.tiff\")\n",
    "\n",
    "# Format the image key based on mpp and whether a crop buffer is used\n",
    "image_key = f\"{mpp}_mpp\"\n",
    "if crop:\n",
    "    image_key += \"_150_buffer\"\n",
    "\n",
    "# Save it for reference inside the AnnData object\n",
    "adata.uns[\"b2c_image_key\"] = image_key\n",
    "\n",
    "# Generate the scaled HE image\n",
    "b2c.scaled_he_image(\n",
    "    adata=adata,\n",
    "    mpp=mpp,\n",
    "    crop=crop,\n",
    "    save_path=save_path\n",
    ")"
   ]
  },
  {
   "cell_type": "code",
   "execution_count": null,
   "metadata": {},
   "outputs": [],
   "source": [
    "# Retrieve the library ID (usually the first and only one)\n",
    "library_id = list(adata.uns['spatial'].keys())[0]\n",
    "\n",
    "# Retrieve the image key from your stored metadata\n",
    "image_key = adata.uns.get(\"b2c_image_key\", \"0.25_mpp_150_buffer\")  # fallback just in case\n",
    "\n",
    "# Retrieve spatial basis that matches the image_key (if known)\n",
    "spatial_key = None\n",
    "for key in adata.obsm.keys():\n",
    "    if image_key in key:\n",
    "        spatial_key = key\n",
    "        break\n",
    "\n",
    "if spatial_key is None:\n",
    "    spatial_key = \"spatial\"  # fallback if nothing matches\n",
    "\n",
    "# Plot dynamically retrieved image and barcode overlay\n",
    "plt.imshow(adata.uns['spatial'][library_id]['images'][image_key], cmap='gray')\n",
    "plt.scatter(adata.obsm[spatial_key][:, 0], adata.obsm[spatial_key][:, 1], s=1, c=\"red\")\n",
    "plt.gca().invert_yaxis()\n",
    "plt.title(\"Barcode overlay on scaled HE image\")\n",
    "plt.show()"
   ]
  },
  {
   "cell_type": "code",
   "execution_count": null,
   "metadata": {},
   "outputs": [],
   "source": [
    "# let's destripe our data\n",
    "b2c.destripe(adata, counts_key='total_counts', adjust_counts=True)"
   ]
  },
  {
   "cell_type": "code",
   "execution_count": null,
   "metadata": {},
   "outputs": [],
   "source": [
    "# Get row and column range from adata\n",
    "row_min, row_max = adata.obs[\"array_row\"].min(), adata.obs[\"array_row\"].max()\n",
    "col_min, col_max = adata.obs[\"array_col\"].min(), adata.obs[\"array_col\"].max()\n",
    "\n",
    "print(f\"Row range: {row_min} to {row_max}\")\n",
    "print(f\"Col range: {col_min} to {col_max}\")\n",
    "\n",
    "# Calculate center\n",
    "row_center = (row_min + row_max) // 2\n",
    "col_center = (col_min + col_max) // 2\n",
    "\n",
    "# Define half-size of the zoom box (150x150 region)\n",
    "half_window = 75\n",
    "\n",
    "# Create a mask for zoomed region\n",
    "zoom_mask = (\n",
    "    (adata.obs['array_row'] >= row_center - half_window) &\n",
    "    (adata.obs['array_row'] <= row_center + half_window) &\n",
    "    (adata.obs['array_col'] >= col_center - half_window) &\n",
    "    (adata.obs['array_col'] <= col_center + half_window)\n",
    ")\n",
    "\n",
    "# Subset and copy\n",
    "bdata_zoomed = adata[zoom_mask].copy()\n",
    "\n",
    "# Visualize the destriped image and normalized signal\n",
    "sc.pl.spatial(\n",
    "    bdata_zoomed,\n",
    "    color=[\"total_counts\", \"n_counts_adjusted\"],  # Update with any feature of interest\n",
    "    img_key=image_key,  # use your dynamically stored image_key\n",
    "    cmap=\"Reds\",\n",
    "    ncols=2\n",
    ")"
   ]
  },
  {
   "cell_type": "markdown",
   "metadata": {},
   "source": [
    "## 4. Run StarDist Segmentation\n",
    "Apply the trained StarDist model to extract nuclear labels from the H&E image."
   ]
  },
  {
   "cell_type": "code",
   "execution_count": null,
   "metadata": {},
   "outputs": [],
   "source": [
    "# Derive paths dynamically from image key\n",
    "he_crop_path = os.path.join(\"stardist\", f\"{sample_id}_he_crop.tiff\")\n",
    "stardist_output_path = os.path.join(\"stardist\", f\"{sample_id}_he_crop.npz\")\n",
    "\n",
    "# # run stardist\n",
    "b2c.stardist(\n",
    "    image_path=he_crop_path,              # your high-res, scaled H&E image\n",
    "    labels_npz_path=stardist_output_path,          # where to save the segmentation result\n",
    "    stardist_model=\"2D_versatile_he\",           # pretrained model for H&E\n",
    "    prob_thresh=0.01                            # low threshold is typical for tissue\n",
    ")"
   ]
  },
  {
   "cell_type": "markdown",
   "metadata": {},
   "source": [
    "## 5. Inject Labels into AnnData\n",
    "Store the predicted StarDist labels into the AnnData object for bin-to-cell transformation."
   ]
  },
  {
   "cell_type": "code",
   "execution_count": null,
   "metadata": {},
   "outputs": [],
   "source": [
    "# Define paths and keys dynamically\n",
    "labels_key = \"labels_he\"  # consistent key for annotations\n",
    "basis_key = \"spatial_cropped_150_buffer\"  # or adapt to reflect actual key from scaled image\n",
    "\n",
    "# Insert StarDist labels into the AnnData object\n",
    "b2c.insert_labels(\n",
    "    adata=adata,\n",
    "    labels_npz_path=stardist_output_path,\n",
    "    basis=\"spatial\",  # this is the default spatial obsm used in b2c\n",
    "    spatial_key=basis_key,\n",
    "    mpp=mpp,\n",
    "    labels_key=labels_key\n",
    ")\n",
    "\n",
    "# Quick confirmation\n",
    "print(f\"✅ Inserted StarDist labels under adata.obs['{labels_key}']\")"
   ]
  },
  {
   "cell_type": "markdown",
   "metadata": {},
   "source": [
    "## 6. Bin-to-Cell Conversion\n",
    "Use `bin2cell` to aggregate bin-level transcript counts into single-cell resolution based on segmentation labels."
   ]
  },
  {
   "cell_type": "code",
   "execution_count": null,
   "metadata": {},
   "outputs": [],
   "source": [
    "# run bin_to_cell\n",
    "cdata = b2c.bin_to_cell(\n",
    "    adata,\n",
    "    labels_key=labels_key,\n",
    "    spatial_keys=basis_key\n",
    ")"
   ]
  },
  {
   "cell_type": "code",
   "execution_count": null,
   "metadata": {},
   "outputs": [],
   "source": [
    "cdata"
   ]
  },
  {
   "cell_type": "code",
   "execution_count": null,
   "metadata": {},
   "outputs": [],
   "source": [
    "# the labels_he does not transfer over during bin_to_cell, so we need to merge them back in\n",
    "# Create a mapping from adata.obs to cdata.obs using an integer ID\n",
    "\n",
    "# Step 1: Add an integer index to adata.obs\n",
    "adata.obs['int_index'] = np.arange(adata.n_obs)\n",
    "\n",
    "# Step 2: Create the label mapping from adata (keeping 'labels_he')\n",
    "label_map = adata.obs[['int_index', 'labels_he']].copy()\n",
    "\n",
    "# Step 3: Merge label_map into cdata.obs using the integer ID\n",
    "# Ensure object_id in cdata is int so the merge works\n",
    "cdata.obs['object_id'] = cdata.obs['object_id'].astype(int)\n",
    "label_map['int_index'] = label_map['int_index'].astype(int)\n",
    "\n",
    "# Step 4: Perform the merge\n",
    "cdata.obs = cdata.obs.merge(label_map, left_on='object_id', right_on='int_index', how='left')\n",
    "\n",
    "# Step 5: Clean up (optional)\n",
    "cdata.obs = cdata.obs.drop(columns=['int_index'])  # keep 'object_id' and 'labels_he'"
   ]
  },
  {
   "cell_type": "code",
   "execution_count": null,
   "metadata": {},
   "outputs": [],
   "source": [
    "print(cdata)\n",
    "print(cdata.obs.columns)"
   ]
  },
  {
   "cell_type": "code",
   "execution_count": null,
   "metadata": {},
   "outputs": [],
   "source": [
    "# plot distribution of cell sizes\n",
    "sns.histplot(cdata.obs['bin_count'], bins=100)\n",
    "plt.yscale('log')\n",
    "plt.xlabel(\"Number of Bins per Cell\")\n",
    "plt.ylabel(\"Cell Count (log scale)\")\n",
    "plt.title(\"Cell Size Distribution (log scale)\")\n",
    "plt.show()"
   ]
  },
  {
   "cell_type": "code",
   "execution_count": null,
   "metadata": {},
   "outputs": [],
   "source": [
    "# filter cells by size\n",
    "cdata = cdata[cdata.obs['bin_count'] >= 3].copy()"
   ]
  },
  {
   "cell_type": "code",
   "execution_count": null,
   "metadata": {},
   "outputs": [],
   "source": [
    "cdata"
   ]
  },
  {
   "cell_type": "code",
   "execution_count": null,
   "metadata": {},
   "outputs": [],
   "source": [
    "sc.pl.spatial(\n",
    "    cdata,\n",
    "    color=None,\n",
    "    img_key=image_key,  # adjust if needed\n",
    "    basis=key,\n",
    "    title=\"Segmented Cells Overlay\",\n",
    "    size=8.0,\n",
    "    alpha=0.8\n",
    ")"
   ]
  },
  {
   "cell_type": "markdown",
   "metadata": {},
   "source": [
    "## 7. Quality Control Metrics\n",
    "Calculate standard QC metrics for cell-level filtering and downstream analysis."
   ]
  },
  {
   "cell_type": "code",
   "execution_count": null,
   "metadata": {},
   "outputs": [],
   "source": [
    "# recalc qc metrics\n",
    "# revert cdata back to raw counts\n",
    "sc.pp.calculate_qc_metrics(cdata, inplace=True)"
   ]
  },
  {
   "cell_type": "code",
   "execution_count": null,
   "metadata": {},
   "outputs": [],
   "source": [
    "cdata.X = cdata.X.astype(np.int32)"
   ]
  },
  {
   "cell_type": "markdown",
   "metadata": {},
   "source": [
    "## 8. Normalize and Identify HVGs\n",
    "Normalize expression data and identify highly variable genes (HVGs)."
   ]
  },
  {
   "cell_type": "code",
   "execution_count": null,
   "metadata": {},
   "outputs": [],
   "source": [
    "# select HVGs\n",
    "sc.pp.highly_variable_genes(cdata, n_top_genes=top_variable_genes, flavor=\"seurat_v3\")"
   ]
  },
  {
   "cell_type": "code",
   "execution_count": null,
   "metadata": {},
   "outputs": [],
   "source": [
    "# normalize & log-transform\n",
    "sc.pp.normalize_total(cdata, target_sum=1e4)\n",
    "sc.pp.log1p(cdata)"
   ]
  },
  {
   "cell_type": "code",
   "execution_count": null,
   "metadata": {},
   "outputs": [],
   "source": [
    "cdata"
   ]
  },
  {
   "cell_type": "code",
   "execution_count": null,
   "metadata": {},
   "outputs": [],
   "source": [
    "cdata.obs['labels_he'] = cdata.obs['labels_he'].astype(str)"
   ]
  },
  {
   "cell_type": "code",
   "execution_count": null,
   "metadata": {},
   "outputs": [],
   "source": [
    "# plot stardist\n",
    "sc.pl.spatial(\n",
    "    cdata,\n",
    "    img_key=image_key,\n",
    "    basis=key,\n",
    "    color=\"labels_he\",\n",
    "    size=10,\n",
    "    cmap=\"magma\",\n",
    "    legend_loc=None,\n",
    "    title=\"StarDist Cell Labels\"\n",
    ")"
   ]
  },
  {
   "cell_type": "code",
   "execution_count": null,
   "metadata": {},
   "outputs": [],
   "source": [
    "# only labeled cells plot\n",
    "labeled = cdata[cdata.obs['labels_he'] != '0']"
   ]
  },
  {
   "cell_type": "code",
   "execution_count": null,
   "metadata": {},
   "outputs": [],
   "source": [
    "# plot labeled cells\n",
    "sc.pl.spatial(\n",
    "    labeled,\n",
    "    img_key=image_key,\n",
    "    basis=key,\n",
    "    color=\"labels_he\",\n",
    "    size=10,\n",
    "    cmap=\"plasma\",\n",
    "    legend_loc=None,\n",
    "    title=\"Labeled Stardist Cells\"\n",
    ")"
   ]
  },
  {
   "cell_type": "code",
   "execution_count": null,
   "metadata": {},
   "outputs": [],
   "source": [
    "total_cells = cdata.n_obs\n",
    "labeled_cells = np.sum(cdata.obs['labels_he'] != '0')\n",
    "print(f\"Labeled cells: {labeled_cells}/{total_cells} ({(labeled_cells/total_cells)*100:.2f}%)\")"
   ]
  },
  {
   "cell_type": "code",
   "execution_count": null,
   "metadata": {},
   "outputs": [],
   "source": [
    "# 1. Tag cells as 'Labeled' or 'Unlabeled'\n",
    "cdata.obs['label_status'] = cdata.obs['labels_he'].astype(str).replace('0', 'Unlabeled')\n",
    "cdata.obs['label_status'] = cdata.obs['label_status'].apply(lambda x: 'Unlabeled' if x == 'Unlabeled' else 'Labeled')\n",
    "\n",
    "# 2. Create figure and axes\n",
    "fig, axes = plt.subplots(1, 2, figsize=(10, 5))\n",
    "\n",
    "# 3. Labeled cells\n",
    "sc.pl.spatial(\n",
    "    cdata[cdata.obs['label_status'] == 'Labeled'],\n",
    "    color=\"bin_count\",\n",
    "    img_key=image_key,\n",
    "    basis=\"spatial_cropped_150_buffer\",\n",
    "    size=5,\n",
    "    cmap=\"Greens\",\n",
    "    title=\"Labeled Cells\",\n",
    "    show=False,\n",
    "    ax=axes[0],\n",
    "    legend_loc=None\n",
    ")\n",
    "\n",
    "# 4. Unlabeled cells\n",
    "sc.pl.spatial(\n",
    "    cdata[cdata.obs['label_status'] == 'Unlabeled'],\n",
    "    color=\"bin_count\",\n",
    "    img_key=image_key,\n",
    "    basis=\"spatial_cropped_150_buffer\",\n",
    "    size=5,\n",
    "    cmap=\"Reds\",\n",
    "    title=\"Unlabeled Cells\",\n",
    "    show=False,\n",
    "    ax=axes[1],\n",
    "    legend_loc=None\n",
    ")\n",
    "\n",
    "plt.tight_layout()\n",
    "plt.show()"
   ]
  },
  {
   "cell_type": "code",
   "execution_count": null,
   "metadata": {},
   "outputs": [],
   "source": [
    "# Filter out cells with label \"0\" (assuming it's the unassigned label)\n",
    "cdata_labeled = cdata[cdata.obs['labels_he'] != '0'].copy()"
   ]
  },
  {
   "cell_type": "markdown",
   "metadata": {},
   "source": [
    "## 9. PCA and Clustering\n",
    "Perform dimensionality reduction and neighborhood graph construction for visualization and clustering."
   ]
  },
  {
   "cell_type": "code",
   "execution_count": null,
   "metadata": {},
   "outputs": [],
   "source": [
    "# run pca\n",
    "sc.tl.pca(cdata_labeled, svd_solver='arpack')\n",
    "# inspect\n",
    "sc.pl.pca_variance_ratio(cdata_labeled, log=True, n_pcs=50)"
   ]
  },
  {
   "cell_type": "code",
   "execution_count": null,
   "metadata": {},
   "outputs": [],
   "source": [
    "# compute neighborhood graph\n",
    "sc.pp.neighbors(cdata_labeled, n_neighbors=10, n_pcs=20)"
   ]
  },
  {
   "cell_type": "markdown",
   "metadata": {},
   "source": [
    "## 9. UMAP Embedding\n",
    "Visualize cells using UMAP colored by segmentation labels or clusters."
   ]
  },
  {
   "cell_type": "code",
   "execution_count": null,
   "metadata": {},
   "outputs": [],
   "source": [
    "# perform UMAP\n",
    "sc.tl.umap(cdata_labeled)\n",
    "sc.pl.umap(cdata_labeled, color=\"labels_he\", title=\"UMAP by StarDist Label\", legend_loc=None)"
   ]
  },
  {
   "cell_type": "markdown",
   "metadata": {},
   "source": [
    "## 10. Leiden Clustering\n",
    "Visualize cells using UMAP colored by segmentation labels or clusters."
   ]
  },
  {
   "cell_type": "code",
   "execution_count": null,
   "metadata": {},
   "outputs": [],
   "source": [
    "# perform leiden clustering\n",
    "sc.tl.leiden(cdata_labeled, resolution=0.5)\n",
    "sc.pl.umap(cdata_labeled, color='leiden', title=\"Leiden Clusters\")"
   ]
  },
  {
   "cell_type": "code",
   "execution_count": null,
   "metadata": {},
   "outputs": [],
   "source": [
    "# spatial plot of leiden clusters\n",
    "# Now plot spatial layout colored by cluster\n",
    "sc.pl.spatial(\n",
    "    cdata_labeled,\n",
    "    color=\"leiden\",                  # key from .obs\n",
    "    img_key=image_key,              # previously determined image key\n",
    "    basis=key,                      # previously determined spatial basis key\n",
    "    cmap=\"tab20\",                   # categorical colormap\n",
    "    size=10,\n",
    "    title=\"Leiden Cluster Overlay on Tissue\",\n",
    "    legend_loc=\"on data\",           # or \"right margin\" if overlapping\n",
    ")"
   ]
  },
  {
   "cell_type": "code",
   "execution_count": null,
   "metadata": {},
   "outputs": [],
   "source": [
    "# define function for final prep before exporting anndata\n",
    "def prepare_for_export(adata, spatial_key=\"spatial\"):\n",
    "    import numpy as np\n",
    "    import pandas as pd\n",
    "\n",
    "    # Convert categorical obs columns to strings\n",
    "    for col in adata.obs.columns:\n",
    "        if pd.api.types.is_categorical_dtype(adata.obs[col]):\n",
    "            adata.obs[col] = adata.obs[col].astype(str)\n",
    "    \n",
    "    # Optional: keep only relevant keys\n",
    "    # adata.uns = {k: adata.uns[k] for k in ['spatial']}  # optional pruning\n",
    "\n",
    "    # Make sure spatial key is named \"spatial\" for R compatibility\n",
    "    if spatial_key in adata.obsm and spatial_key != \"spatial\":\n",
    "        adata.obsm[\"spatial\"] = adata.obsm[spatial_key]\n",
    "\n",
    "    return adata"
   ]
  },
  {
   "cell_type": "code",
   "execution_count": null,
   "metadata": {},
   "outputs": [],
   "source": [
    "# prepare the AnnData object for export\n",
    "cdata_prepped = prepare_for_export(cdata_labeled, spatial_key=key)"
   ]
  },
  {
   "cell_type": "markdown",
   "metadata": {},
   "source": [
    "## 11. Save Processed Data\n",
    "Write processed AnnData objects to disk for downstream analysis in Python or R."
   ]
  },
  {
   "cell_type": "code",
   "execution_count": null,
   "metadata": {},
   "outputs": [],
   "source": [
    "# Save the AnnData object with a descriptive filename\n",
    "output_filename = f\"{sample_id}_binned_qc_processed.h5ad\"\n",
    "cdata_prepped.write(output_filename, compression=\"gzip\")"
   ]
  }
 ],
 "metadata": {
  "kernelspec": {
   "display_name": "bin2cell",
   "language": "python",
   "name": "python3"
  },
  "language_info": {
   "codemirror_mode": {
    "name": "ipython",
    "version": 3
   },
   "file_extension": ".py",
   "mimetype": "text/x-python",
   "name": "python",
   "nbconvert_exporter": "python",
   "pygments_lexer": "ipython3",
   "version": "3.12.11"
  }
 },
 "nbformat": 4,
 "nbformat_minor": 2
}
